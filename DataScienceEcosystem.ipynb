{
 "cells": [
  {
   "cell_type": "markdown",
   "id": "1bafe147-f5b8-4d08-b70f-88969788d0d8",
   "metadata": {},
   "source": [
    "# Data Science Tools and Ecosystem"
   ]
  },
  {
   "cell_type": "markdown",
   "id": "0300837a-5c65-4d90-9400-adb202c5dfb4",
   "metadata": {},
   "source": [
    "In this notebook, Data Science Tools and Ecosystem are summarized."
   ]
  },
  {
   "cell_type": "markdown",
   "id": "96ce3905-4c22-4a6e-92ca-25560042a18f",
   "metadata": {},
   "source": [
    "Some of the popular languages that Data Scientists use are:\n",
    "1. Python\n",
    "2. R\n",
    "3. Julia"
   ]
  },
  {
   "cell_type": "markdown",
   "id": "36e40600-c981-4cb5-a7e7-d88705d9f838",
   "metadata": {},
   "source": [
    " Some of the commonly used libraries used by Data Scientists include:\n",
    " 1. Numpy\n",
    " 2. Pandas\n",
    " 3. PyTorch"
   ]
  },
  {
   "cell_type": "markdown",
   "id": "3e9bc215-b5f1-4018-83ad-0e861f8b0141",
   "metadata": {
    "tags": []
   },
   "source": [
    "\n",
    "| Data Science Tools |\n",
    "| ------------------ |\n",
    "| Jupiter Notebook |\n",
    "| RStudio |\n",
    "| Apache Zeppelin |"
   ]
  },
  {
   "cell_type": "markdown",
   "id": "9de16c24-3ebf-4fe1-9f6a-25f62d30dc0b",
   "metadata": {
    "tags": []
   },
   "source": [
    "### Below are a few examples of evaluating arithmetic expressions in Python"
   ]
  },
  {
   "cell_type": "code",
   "execution_count": 19,
   "id": "b3f388b0-19b0-49cc-ab52-b4b7fd000f9a",
   "metadata": {
    "tags": []
   },
   "outputs": [
    {
     "data": {
      "text/plain": [
       "17"
      ]
     },
     "execution_count": 19,
     "metadata": {},
     "output_type": "execute_result"
    }
   ],
   "source": [
    "# This a simple arithmetic expression to mutiply then add integers.\n",
    "(3*4)+5"
   ]
  },
  {
   "cell_type": "code",
   "execution_count": 20,
   "id": "c799fcbe-5c66-4578-bd10-4fbf70145082",
   "metadata": {
    "tags": []
   },
   "outputs": [
    {
     "name": "stdout",
     "output_type": "stream",
     "text": [
      "200 minutes is 3.3333333333333335 hours\n"
     ]
    }
   ],
   "source": [
    "# This will convert 200 minutes to hours by dividing by 60\n",
    "minutes = 200\n",
    "hours = minutes/60\n",
    "print(f\"{minutes} minutes is {hours} hours\")"
   ]
  },
  {
   "cell_type": "markdown",
   "id": "f24f9fa2-da00-4d2d-9a9e-5f2469d9f6a9",
   "metadata": {},
   "source": [
    "**Objectives:**\n",
    "- Python\n",
    "- R\n",
    "- SQL"
   ]
  },
  {
   "cell_type": "markdown",
   "id": "f37e501c-bd95-40b2-a575-0645e824b41b",
   "metadata": {},
   "source": [
    "## Author\n",
    "John Takashi"
   ]
  },
  {
   "cell_type": "code",
   "execution_count": null,
   "id": "59a84641-cc60-47fc-90dd-20bb677b88a5",
   "metadata": {},
   "outputs": [],
   "source": []
  }
 ],
 "metadata": {
  "kernelspec": {
   "display_name": "Python",
   "language": "python",
   "name": "conda-env-python-py"
  },
  "language_info": {
   "codemirror_mode": {
    "name": "ipython",
    "version": 3
   },
   "file_extension": ".py",
   "mimetype": "text/x-python",
   "name": "python",
   "nbconvert_exporter": "python",
   "pygments_lexer": "ipython3",
   "version": "3.7.12"
  }
 },
 "nbformat": 4,
 "nbformat_minor": 5
}
